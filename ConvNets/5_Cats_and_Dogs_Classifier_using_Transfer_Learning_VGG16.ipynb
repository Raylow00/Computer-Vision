{
  "nbformat": 4,
  "nbformat_minor": 0,
  "metadata": {
    "colab": {
      "name": "5_Cats_and_Dogs_Classifier_using_Transfer_Learning_VGG16.ipynb",
      "provenance": [],
      "collapsed_sections": []
    },
    "kernelspec": {
      "name": "python3",
      "display_name": "Python 3"
    },
    "accelerator": "GPU"
  },
  "cells": [
    {
      "cell_type": "code",
      "metadata": {
        "id": "g9hHgUL1ycRX",
        "colab": {
          "base_uri": "https://localhost:8080/"
        },
        "outputId": "9b7e30b4-f87c-4205-f39c-e4a10ac672fb"
      },
      "source": [
        "from google.colab import drive\n",
        "drive.mount('/content/drive')"
      ],
      "execution_count": 27,
      "outputs": [
        {
          "output_type": "stream",
          "text": [
            "Drive already mounted at /content/drive; to attempt to forcibly remount, call drive.mount(\"/content/drive\", force_remount=True).\n"
          ],
          "name": "stdout"
        }
      ]
    },
    {
      "cell_type": "code",
      "metadata": {
        "id": "mDPyV8lbyoMC",
        "colab": {
          "base_uri": "https://localhost:8080/"
        },
        "outputId": "3e9a896f-6197-449f-aff8-b297bbbd915b"
      },
      "source": [
        "from keras.applications import VGG16\n",
        "\n",
        "conv_base = VGG16(weights='imagenet',\n",
        "                  include_top = False,\n",
        "                  input_shape=(150, 150, 3))\n",
        "conv_base.summary()"
      ],
      "execution_count": 28,
      "outputs": [
        {
          "output_type": "stream",
          "text": [
            "Model: \"vgg16\"\n",
            "_________________________________________________________________\n",
            "Layer (type)                 Output Shape              Param #   \n",
            "=================================================================\n",
            "input_3 (InputLayer)         [(None, 150, 150, 3)]     0         \n",
            "_________________________________________________________________\n",
            "block1_conv1 (Conv2D)        (None, 150, 150, 64)      1792      \n",
            "_________________________________________________________________\n",
            "block1_conv2 (Conv2D)        (None, 150, 150, 64)      36928     \n",
            "_________________________________________________________________\n",
            "block1_pool (MaxPooling2D)   (None, 75, 75, 64)        0         \n",
            "_________________________________________________________________\n",
            "block2_conv1 (Conv2D)        (None, 75, 75, 128)       73856     \n",
            "_________________________________________________________________\n",
            "block2_conv2 (Conv2D)        (None, 75, 75, 128)       147584    \n",
            "_________________________________________________________________\n",
            "block2_pool (MaxPooling2D)   (None, 37, 37, 128)       0         \n",
            "_________________________________________________________________\n",
            "block3_conv1 (Conv2D)        (None, 37, 37, 256)       295168    \n",
            "_________________________________________________________________\n",
            "block3_conv2 (Conv2D)        (None, 37, 37, 256)       590080    \n",
            "_________________________________________________________________\n",
            "block3_conv3 (Conv2D)        (None, 37, 37, 256)       590080    \n",
            "_________________________________________________________________\n",
            "block3_pool (MaxPooling2D)   (None, 18, 18, 256)       0         \n",
            "_________________________________________________________________\n",
            "block4_conv1 (Conv2D)        (None, 18, 18, 512)       1180160   \n",
            "_________________________________________________________________\n",
            "block4_conv2 (Conv2D)        (None, 18, 18, 512)       2359808   \n",
            "_________________________________________________________________\n",
            "block4_conv3 (Conv2D)        (None, 18, 18, 512)       2359808   \n",
            "_________________________________________________________________\n",
            "block4_pool (MaxPooling2D)   (None, 9, 9, 512)         0         \n",
            "_________________________________________________________________\n",
            "block5_conv1 (Conv2D)        (None, 9, 9, 512)         2359808   \n",
            "_________________________________________________________________\n",
            "block5_conv2 (Conv2D)        (None, 9, 9, 512)         2359808   \n",
            "_________________________________________________________________\n",
            "block5_conv3 (Conv2D)        (None, 9, 9, 512)         2359808   \n",
            "_________________________________________________________________\n",
            "block5_pool (MaxPooling2D)   (None, 4, 4, 512)         0         \n",
            "=================================================================\n",
            "Total params: 14,714,688\n",
            "Trainable params: 14,714,688\n",
            "Non-trainable params: 0\n",
            "_________________________________________________________________\n"
          ],
          "name": "stdout"
        }
      ]
    },
    {
      "cell_type": "markdown",
      "metadata": {
        "id": "aWx1sWWkzkVW"
      },
      "source": [
        "#2 things we can do from here:\n",
        "\n",
        "1. Running the conv_base over a dataset, and save the output. Pass this output as input to a standalone, densely connected classifier\n",
        "\n",
        "2. Extending the model by adding Dense layers on top, and run the whole dataset"
      ]
    },
    {
      "cell_type": "markdown",
      "metadata": {
        "id": "BPH_zMG2z06W"
      },
      "source": [
        "First method"
      ]
    },
    {
      "cell_type": "code",
      "metadata": {
        "id": "5GiiQiU7zBiJ"
      },
      "source": [
        "import os\n",
        "import numpy as np\n",
        "from keras.preprocessing.image import ImageDataGenerator\n",
        "\n",
        "base_dir = '/content/drive/My Drive/Image Datasets/cats_and_dogs_small'\n",
        "train_dir = os.path.join(base_dir, 'train')\n",
        "validation_dir = os.path.join(base_dir, 'validation')\n",
        "test_dir = os.path.join(base_dir, 'test')\n",
        "\n",
        "datagen = ImageDataGenerator(rescale=1./255)\n",
        "batch_size=20"
      ],
      "execution_count": 29,
      "outputs": []
    },
    {
      "cell_type": "code",
      "metadata": {
        "id": "SUveuhpW0Qys"
      },
      "source": [
        "# extract features\n",
        "def extract_features(directory, sample_count):\n",
        "  features = np.zeros(shape=(sample_count, 4, 4, 512))\n",
        "  labels = np.zeros(shape=(sample_count))\n",
        "  generator = datagen.flow_from_directory(directory,\n",
        "                                          target_size=(150, 150),\n",
        "                                          batch_size=batch_size,\n",
        "                                          class_mode='binary')\n",
        "  i = 0\n",
        "  for inputs_batch, labels_batch in generator:\n",
        "    features_batch = conv_base.predict(inputs_batch)\n",
        "    features[i * batch_size : (i+1) * batch_size] = features_batch\n",
        "    labels[i * batch_size : (i+1) * batch_size] = labels_batch\n",
        "\n",
        "    i+=1\n",
        "    if i * batch_size >= sample_count:\n",
        "      break\n",
        "  \n",
        "  return features, labels"
      ],
      "execution_count": 30,
      "outputs": []
    },
    {
      "cell_type": "code",
      "metadata": {
        "id": "KMCHGEYV08z-",
        "colab": {
          "base_uri": "https://localhost:8080/"
        },
        "outputId": "95c29c9a-e713-4813-9330-91c0352dd3f3"
      },
      "source": [
        "train_features, train_labels = extract_features(train_dir, 2000)\n",
        "validation_features, validation_labels = extract_features(validation_dir, 1000)\n",
        "test_features, test_labels = extract_features(test_dir, 1000)"
      ],
      "execution_count": 31,
      "outputs": [
        {
          "output_type": "stream",
          "text": [
            "Found 2000 images belonging to 2 classes.\n",
            "Found 1000 images belonging to 2 classes.\n",
            "Found 1000 images belonging to 2 classes.\n"
          ],
          "name": "stdout"
        }
      ]
    },
    {
      "cell_type": "markdown",
      "metadata": {
        "id": "hL04TuBL1RIU"
      },
      "source": [
        "The extracted features are of shape (samples, 4, 4, 512)\n",
        "- to reshape them to (samples, 4 x 4 x 512)"
      ]
    },
    {
      "cell_type": "code",
      "metadata": {
        "id": "0KNQLOI61M8x"
      },
      "source": [
        "train_features = np.reshape(train_features, (2000, 4*4*512))\n",
        "validation_features = np.reshape(validation_features, (1000, 4*4*512))\n",
        "test_features = np.reshape(test_features, (1000, 4*4*512))"
      ],
      "execution_count": 32,
      "outputs": []
    },
    {
      "cell_type": "code",
      "metadata": {
        "id": "IYw9NZU91oiR",
        "colab": {
          "base_uri": "https://localhost:8080/"
        },
        "outputId": "85d272a2-9214-4bd9-91fe-dc277c6215ee"
      },
      "source": [
        "# Densely connected classifier\n",
        "from keras import models\n",
        "from keras import layers\n",
        "from keras import optimizers\n",
        "\n",
        "model = models.Sequential()\n",
        "model.add(layers.Dense(256, activation='relu', input_dim=4*4*512))\n",
        "model.add(layers.Dropout(0.5))\n",
        "model.add(layers.Dense(1, activation='sigmoid'))\n",
        "\n",
        "model.compile(optimizer=optimizers.RMSprop(lr=2e-5),\n",
        "              loss='binary_crossentropy',\n",
        "              metrics=['acc'])\n",
        "\n",
        "history = model.fit(train_features, train_labels, epochs=30, batch_size=20, validation_data=(validation_features, validation_labels))\n"
      ],
      "execution_count": 33,
      "outputs": [
        {
          "output_type": "stream",
          "text": [
            "Epoch 1/30\n",
            "100/100 [==============================] - 1s 5ms/step - loss: 0.6105 - acc: 0.6570 - val_loss: 0.4457 - val_acc: 0.8420\n",
            "Epoch 2/30\n",
            "100/100 [==============================] - 0s 4ms/step - loss: 0.4234 - acc: 0.8075 - val_loss: 0.3619 - val_acc: 0.8660\n",
            "Epoch 3/30\n",
            "100/100 [==============================] - 0s 4ms/step - loss: 0.3509 - acc: 0.8490 - val_loss: 0.3183 - val_acc: 0.8850\n",
            "Epoch 4/30\n",
            "100/100 [==============================] - 0s 4ms/step - loss: 0.3082 - acc: 0.8745 - val_loss: 0.2969 - val_acc: 0.8980\n",
            "Epoch 5/30\n",
            "100/100 [==============================] - 0s 4ms/step - loss: 0.2841 - acc: 0.8840 - val_loss: 0.2848 - val_acc: 0.8850\n",
            "Epoch 6/30\n",
            "100/100 [==============================] - 0s 4ms/step - loss: 0.2639 - acc: 0.8970 - val_loss: 0.2698 - val_acc: 0.9020\n",
            "Epoch 7/30\n",
            "100/100 [==============================] - 0s 4ms/step - loss: 0.2470 - acc: 0.8985 - val_loss: 0.2614 - val_acc: 0.8980\n",
            "Epoch 8/30\n",
            "100/100 [==============================] - 0s 4ms/step - loss: 0.2257 - acc: 0.9090 - val_loss: 0.2585 - val_acc: 0.8950\n",
            "Epoch 9/30\n",
            "100/100 [==============================] - 0s 4ms/step - loss: 0.2176 - acc: 0.9180 - val_loss: 0.2504 - val_acc: 0.9050\n",
            "Epoch 10/30\n",
            "100/100 [==============================] - 0s 4ms/step - loss: 0.1996 - acc: 0.9295 - val_loss: 0.2490 - val_acc: 0.9040\n",
            "Epoch 11/30\n",
            "100/100 [==============================] - 0s 4ms/step - loss: 0.1989 - acc: 0.9290 - val_loss: 0.2474 - val_acc: 0.9040\n",
            "Epoch 12/30\n",
            "100/100 [==============================] - 0s 4ms/step - loss: 0.1861 - acc: 0.9375 - val_loss: 0.2423 - val_acc: 0.9100\n",
            "Epoch 13/30\n",
            "100/100 [==============================] - 0s 4ms/step - loss: 0.1754 - acc: 0.9330 - val_loss: 0.2422 - val_acc: 0.9070\n",
            "Epoch 14/30\n",
            "100/100 [==============================] - 0s 4ms/step - loss: 0.1653 - acc: 0.9390 - val_loss: 0.2385 - val_acc: 0.9120\n",
            "Epoch 15/30\n",
            "100/100 [==============================] - 0s 4ms/step - loss: 0.1595 - acc: 0.9440 - val_loss: 0.2359 - val_acc: 0.9140\n",
            "Epoch 16/30\n",
            "100/100 [==============================] - 0s 4ms/step - loss: 0.1506 - acc: 0.9445 - val_loss: 0.2427 - val_acc: 0.9040\n",
            "Epoch 17/30\n",
            "100/100 [==============================] - 0s 4ms/step - loss: 0.1527 - acc: 0.9470 - val_loss: 0.2405 - val_acc: 0.9090\n",
            "Epoch 18/30\n",
            "100/100 [==============================] - 0s 4ms/step - loss: 0.1415 - acc: 0.9515 - val_loss: 0.2412 - val_acc: 0.9090\n",
            "Epoch 19/30\n",
            "100/100 [==============================] - 0s 4ms/step - loss: 0.1396 - acc: 0.9550 - val_loss: 0.2456 - val_acc: 0.8980\n",
            "Epoch 20/30\n",
            "100/100 [==============================] - 0s 4ms/step - loss: 0.1303 - acc: 0.9540 - val_loss: 0.2353 - val_acc: 0.9090\n",
            "Epoch 21/30\n",
            "100/100 [==============================] - 0s 4ms/step - loss: 0.1264 - acc: 0.9590 - val_loss: 0.2364 - val_acc: 0.9100\n",
            "Epoch 22/30\n",
            "100/100 [==============================] - 0s 4ms/step - loss: 0.1192 - acc: 0.9600 - val_loss: 0.2388 - val_acc: 0.9050\n",
            "Epoch 23/30\n",
            "100/100 [==============================] - 0s 4ms/step - loss: 0.1139 - acc: 0.9610 - val_loss: 0.2333 - val_acc: 0.9100\n",
            "Epoch 24/30\n",
            "100/100 [==============================] - 0s 4ms/step - loss: 0.1093 - acc: 0.9635 - val_loss: 0.2317 - val_acc: 0.9080\n",
            "Epoch 25/30\n",
            "100/100 [==============================] - 0s 3ms/step - loss: 0.1091 - acc: 0.9660 - val_loss: 0.2322 - val_acc: 0.9070\n",
            "Epoch 26/30\n",
            "100/100 [==============================] - 0s 4ms/step - loss: 0.1033 - acc: 0.9645 - val_loss: 0.2344 - val_acc: 0.9110\n",
            "Epoch 27/30\n",
            "100/100 [==============================] - 0s 4ms/step - loss: 0.1000 - acc: 0.9705 - val_loss: 0.2406 - val_acc: 0.9060\n",
            "Epoch 28/30\n",
            "100/100 [==============================] - 0s 4ms/step - loss: 0.0954 - acc: 0.9690 - val_loss: 0.2327 - val_acc: 0.9090\n",
            "Epoch 29/30\n",
            "100/100 [==============================] - 0s 4ms/step - loss: 0.0923 - acc: 0.9700 - val_loss: 0.2343 - val_acc: 0.9100\n",
            "Epoch 30/30\n",
            "100/100 [==============================] - 0s 4ms/step - loss: 0.0921 - acc: 0.9735 - val_loss: 0.2425 - val_acc: 0.9030\n"
          ],
          "name": "stdout"
        }
      ]
    },
    {
      "cell_type": "code",
      "metadata": {
        "id": "X6TIKm1l2Qew",
        "colab": {
          "base_uri": "https://localhost:8080/",
          "height": 545
        },
        "outputId": "9580b573-211d-4ae4-d05c-733fe11afe66"
      },
      "source": [
        "# Plotting the results\n",
        "import matplotlib.pyplot as plt\n",
        "\n",
        "acc = history.history['acc']\n",
        "val_acc = history.history['val_acc']\n",
        "loss = history.history['loss']\n",
        "val_loss = history.history['val_loss']\n",
        "\n",
        "epochs = range(1, len(acc)+1)\n",
        "\n",
        "plt.plot(epochs, acc, 'bo', label='Training acc')\n",
        "plt.plot(epochs, val_acc, 'b', label='Validation acc')\n",
        "plt.title('Training and validation accuracy')\n",
        "plt.legend()\n",
        "\n",
        "plt.figure()\n",
        "\n",
        "plt.plot(epochs, loss, 'bo', label='Training loss')\n",
        "plt.plot(epochs, val_loss, 'b', label='Validation loss')\n",
        "plt.title('Training and validation loss')\n",
        "plt.legend()\n",
        "\n",
        "plt.show()"
      ],
      "execution_count": 34,
      "outputs": [
        {
          "output_type": "display_data",
          "data": {
            "image/png": "[encoded data removed]",
            "text/plain": [
              "<Figure size 432x288 with 1 Axes>"
            ]
          },
          "metadata": {
            "tags": [],
            "needs_background": "light"
          }
        },
        {
          "output_type": "display_data",
          "data": {
            "image/png": "[encoded data removed]",
            "text/plain": [
              "<Figure size 432x288 with 1 Axes>"
            ]
          },
          "metadata": {
            "tags": [],
            "needs_background": "light"
          }
        }
      ]
    },
    {
      "cell_type": "markdown",
      "metadata": {
        "id": "AuMALpt83OXz"
      },
      "source": [
        "Second method"
      ]
    },
    {
      "cell_type": "code",
      "metadata": {
        "id": "fpPtPkve3Qlj"
      },
      "source": [
        "from keras import models\n",
        "from keras import layers\n",
        "\n",
        "model = models.Sequential()\n",
        "model.add(conv_base)\n",
        "model.add(layers.Flatten())\n",
        "model.add(layers.Dense(256, activation='relu'))\n",
        "model.add(layers.Dense(1, activation='sigmoid'))"
      ],
      "execution_count": 35,
      "outputs": []
    },
    {
      "cell_type": "markdown",
      "metadata": {
        "id": "R5eUTEqS3fuM"
      },
      "source": [
        "But before we compile and train the model, we should freeze the convolutional base to prevent the weights from being updated when the dense layers on top are being trained.\n",
        "\n",
        "- setting its trainable attribute to False"
      ]
    },
    {
      "cell_type": "code",
      "metadata": {
        "id": "tZiUPgQX3szN",
        "colab": {
          "base_uri": "https://localhost:8080/"
        },
        "outputId": "de70a2b0-e1a8-4602-9b17-f3017833e9b2"
      },
      "source": [
        "print('This is the number of trainable weights before freezing the conv base:', len(model.trainable_weights))\n",
        "\n",
        "conv_base.trainable = False\n",
        "\n",
        "print('This is the number of trainable weights after freezing the conv base:', len(model.trainable_weights))"
      ],
      "execution_count": 36,
      "outputs": [
        {
          "output_type": "stream",
          "text": [
            "This is the number of trainable weights before freezing the conv base: 30\n",
            "This is the number of trainable weights after freezing the conv base: 4\n"
          ],
          "name": "stdout"
        }
      ]
    },
    {
      "cell_type": "code",
      "metadata": {
        "id": "JghzIbs74CEE",
        "colab": {
          "base_uri": "https://localhost:8080/"
        },
        "outputId": "387fe254-11ab-48f9-e0fd-53ec5de2c0ef"
      },
      "source": [
        "# Start training model with the same data augmentation configuration\n",
        "\n",
        "from keras.preprocessing.image import ImageDataGenerator\n",
        "from keras import optimizers\n",
        "\n",
        "train_datagen = ImageDataGenerator(\n",
        "    rescale=1./255,\n",
        "    rotation_range=40,\n",
        "    width_shift_range=0.2,\n",
        "    height_shift_range=0.2,\n",
        "    shear_range=0.2,\n",
        "    zoom_range=0.2,\n",
        "    horizontal_flip=True,\n",
        "    fill_mode='nearest'\n",
        ")\n",
        "\n",
        "# Validation data should NOT be augmented!\n",
        "test_datagen = ImageDataGenerator(rescale=1./255)\n",
        "\n",
        "train_generator = train_datagen.flow_from_directory(\n",
        "    train_dir, \n",
        "    target_size=(150, 150),\n",
        "    batch_size=20, \n",
        "    class_mode='binary'\n",
        ")\n",
        "\n",
        "validation_generator = test_datagen.flow_from_directory(\n",
        "    validation_dir,\n",
        "    target_size=(150, 150),\n",
        "    batch_size=20,\n",
        "    class_mode='binary'\n",
        ")\n",
        "\n",
        "model.compile(loss='binary_crossentropy',\n",
        "              optimizer=optimizers.RMSprop(lr=2e-5),\n",
        "              metrics=['acc'])\n",
        "\n",
        "history = model.fit_generator(train_generator, steps_per_epoch=100, epochs=30, validation_data=validation_generator, validation_steps=50)\n"
      ],
      "execution_count": 37,
      "outputs": [
        {
          "output_type": "stream",
          "text": [
            "Found 2000 images belonging to 2 classes.\n",
            "Found 1000 images belonging to 2 classes.\n",
            "Epoch 1/30\n",
            "100/100 [==============================] - 22s 215ms/step - loss: 0.5626 - acc: 0.7125 - val_loss: 0.4143 - val_acc: 0.8450\n",
            "Epoch 2/30\n",
            "100/100 [==============================] - 21s 215ms/step - loss: 0.4625 - acc: 0.7910 - val_loss: 0.3613 - val_acc: 0.8540\n",
            "Epoch 3/30\n",
            "100/100 [==============================] - 22s 217ms/step - loss: 0.4274 - acc: 0.8085 - val_loss: 0.3081 - val_acc: 0.8850\n",
            "Epoch 4/30\n",
            "100/100 [==============================] - 22s 215ms/step - loss: 0.3831 - acc: 0.8295 - val_loss: 0.2910 - val_acc: 0.8780\n",
            "Epoch 5/30\n",
            "100/100 [==============================] - 21s 214ms/step - loss: 0.3689 - acc: 0.8385 - val_loss: 0.2786 - val_acc: 0.8820\n",
            "Epoch 6/30\n",
            "100/100 [==============================] - 21s 214ms/step - loss: 0.3558 - acc: 0.8445 - val_loss: 0.2710 - val_acc: 0.8850\n",
            "Epoch 7/30\n",
            "100/100 [==============================] - 21s 212ms/step - loss: 0.3491 - acc: 0.8525 - val_loss: 0.2655 - val_acc: 0.8840\n",
            "Epoch 8/30\n",
            "100/100 [==============================] - 21s 212ms/step - loss: 0.3373 - acc: 0.8555 - val_loss: 0.2593 - val_acc: 0.8880\n",
            "Epoch 9/30\n",
            "100/100 [==============================] - 21s 212ms/step - loss: 0.3293 - acc: 0.8595 - val_loss: 0.2622 - val_acc: 0.8910\n",
            "Epoch 10/30\n",
            "100/100 [==============================] - 21s 212ms/step - loss: 0.3264 - acc: 0.8595 - val_loss: 0.2611 - val_acc: 0.8900\n",
            "Epoch 11/30\n",
            "100/100 [==============================] - 21s 214ms/step - loss: 0.3348 - acc: 0.8530 - val_loss: 0.2503 - val_acc: 0.8930\n",
            "Epoch 12/30\n",
            "100/100 [==============================] - 21s 213ms/step - loss: 0.3275 - acc: 0.8585 - val_loss: 0.2465 - val_acc: 0.8910\n",
            "Epoch 13/30\n",
            "100/100 [==============================] - 21s 213ms/step - loss: 0.3188 - acc: 0.8710 - val_loss: 0.2456 - val_acc: 0.8960\n",
            "Epoch 14/30\n",
            "100/100 [==============================] - 21s 214ms/step - loss: 0.3187 - acc: 0.8610 - val_loss: 0.2733 - val_acc: 0.8890\n",
            "Epoch 15/30\n",
            "100/100 [==============================] - 21s 214ms/step - loss: 0.3068 - acc: 0.8750 - val_loss: 0.2478 - val_acc: 0.8900\n",
            "Epoch 16/30\n",
            "100/100 [==============================] - 21s 213ms/step - loss: 0.3034 - acc: 0.8640 - val_loss: 0.2447 - val_acc: 0.8940\n",
            "Epoch 17/30\n",
            "100/100 [==============================] - 21s 215ms/step - loss: 0.3066 - acc: 0.8630 - val_loss: 0.2445 - val_acc: 0.8950\n",
            "Epoch 18/30\n",
            "100/100 [==============================] - 22s 217ms/step - loss: 0.3073 - acc: 0.8730 - val_loss: 0.2496 - val_acc: 0.8940\n",
            "Epoch 19/30\n",
            "100/100 [==============================] - 21s 214ms/step - loss: 0.2937 - acc: 0.8695 - val_loss: 0.2989 - val_acc: 0.8680\n",
            "Epoch 20/30\n",
            "100/100 [==============================] - 22s 216ms/step - loss: 0.2949 - acc: 0.8650 - val_loss: 0.2366 - val_acc: 0.8990\n",
            "Epoch 21/30\n",
            "100/100 [==============================] - 21s 213ms/step - loss: 0.2906 - acc: 0.8745 - val_loss: 0.2376 - val_acc: 0.8970\n",
            "Epoch 22/30\n",
            "100/100 [==============================] - 21s 214ms/step - loss: 0.2924 - acc: 0.8670 - val_loss: 0.2490 - val_acc: 0.8990\n",
            "Epoch 23/30\n",
            "100/100 [==============================] - 21s 214ms/step - loss: 0.2891 - acc: 0.8815 - val_loss: 0.2359 - val_acc: 0.8980\n",
            "Epoch 24/30\n",
            "100/100 [==============================] - 21s 214ms/step - loss: 0.2977 - acc: 0.8785 - val_loss: 0.2451 - val_acc: 0.8940\n",
            "Epoch 25/30\n",
            "100/100 [==============================] - 21s 214ms/step - loss: 0.2887 - acc: 0.8770 - val_loss: 0.2343 - val_acc: 0.8980\n",
            "Epoch 26/30\n",
            "100/100 [==============================] - 22s 216ms/step - loss: 0.2807 - acc: 0.8760 - val_loss: 0.2394 - val_acc: 0.8960\n",
            "Epoch 27/30\n",
            "100/100 [==============================] - 21s 214ms/step - loss: 0.2784 - acc: 0.8830 - val_loss: 0.2337 - val_acc: 0.8990\n",
            "Epoch 28/30\n",
            "100/100 [==============================] - 21s 214ms/step - loss: 0.2723 - acc: 0.8800 - val_loss: 0.2391 - val_acc: 0.8980\n",
            "Epoch 29/30\n",
            "100/100 [==============================] - 21s 213ms/step - loss: 0.2769 - acc: 0.8855 - val_loss: 0.2379 - val_acc: 0.8930\n",
            "Epoch 30/30\n",
            "100/100 [==============================] - 21s 214ms/step - loss: 0.2972 - acc: 0.8715 - val_loss: 0.2353 - val_acc: 0.9000\n"
          ],
          "name": "stdout"
        }
      ]
    },
    {
      "cell_type": "code",
      "metadata": {
        "id": "Ykuxm0or5H-M",
        "colab": {
          "base_uri": "https://localhost:8080/",
          "height": 545
        },
        "outputId": "678d393f-4538-48eb-afe0-f5e85d76c827"
      },
      "source": [
        "acc = history.history['acc']\n",
        "val_acc = history.history['val_acc']\n",
        "loss = history.history['loss']\n",
        "val_loss = history.history['val_loss']\n",
        "\n",
        "epochs = range(1, len(acc)+1)\n",
        "\n",
        "plt.plot(epochs, acc, 'bo', label='Training acc')\n",
        "plt.plot(epochs, val_acc, 'b', label='Validation acc')\n",
        "plt.title('Training and validation accuracy')\n",
        "plt.legend()\n",
        "\n",
        "plt.figure()\n",
        "\n",
        "plt.plot(epochs, loss, 'bo', label='Training loss')\n",
        "plt.plot(epochs, val_loss, 'b', label='Validation loss')\n",
        "plt.title('Training and validation loss')\n",
        "plt.legend()\n",
        "\n",
        "plt.show()"
      ],
      "execution_count": 38,
      "outputs": [
        {
          "output_type": "display_data",
          "data": {
            "image/png": "[encoded data removed]",
            "text/plain": [
              "<Figure size 432x288 with 1 Axes>"
            ]
          },
          "metadata": {
            "tags": [],
            "needs_background": "light"
          }
        },
        {
          "output_type": "display_data",
          "data": {
            "image/png": "[encoded data removed]",
            "text/plain": [
              "<Figure size 432x288 with 1 Axes>"
            ]
          },
          "metadata": {
            "tags": [],
            "needs_background": "light"
          }
        }
      ]
    },
    {
      "cell_type": "code",
      "metadata": {
        "colab": {
          "base_uri": "https://localhost:8080/"
        },
        "id": "oiZ07eJAj_ou",
        "outputId": "a2f6a65e-f605-4cf3-b951-61c2cd85ea0f"
      },
      "source": [
        "acc = history.history['acc']\r\n",
        "val_acc = history.history['val_acc']\r\n",
        "loss = history.history['loss']\r\n",
        "val_loss = history.history['val_loss']\r\n",
        "\r\n",
        "print(\"Accuracy: \", acc[-1])\r\n",
        "print(\"Validation accuracy: \", val_acc[-1])\r\n",
        "print(\"\\n\")\r\n",
        "print(\"Loss: \", loss[-1])\r\n",
        "print(\"Validation loss: \", val_loss[-1])"
      ],
      "execution_count": 39,
      "outputs": [
        {
          "output_type": "stream",
          "text": [
            "Accuracy:  0.8715000152587891\n",
            "Validation accuracy:  0.8999999761581421\n",
            "\n",
            "\n",
            "Loss:  0.2972235381603241\n",
            "Validation loss:  0.23534834384918213\n"
          ],
          "name": "stdout"
        }
      ]
    },
    {
      "cell_type": "markdown",
      "metadata": {
        "id": "JlF2qRkU6DSi"
      },
      "source": [
        "# Fine-tuning\n",
        "\n",
        "We can fine tune the model by unfreezing the top layers of the conv base and retrain them, but the procedure should be like this:\n",
        "\n",
        "1. Add your custom network on top of an already-trained base network\n",
        "2. Freeze the base network\n",
        "3. Train the part you added\n",
        "4. Unfreeze some layers in the base network\n",
        "5. Jointly train both these layers and the part you added"
      ]
    },
    {
      "cell_type": "code",
      "metadata": {
        "id": "Ww8BljcO6ZE8",
        "colab": {
          "base_uri": "https://localhost:8080/"
        },
        "outputId": "9979f288-1050-4f09-f014-32a809b59fd6"
      },
      "source": [
        "# Looking at the base network once more\n",
        "conv_base.summary()"
      ],
      "execution_count": 40,
      "outputs": [
        {
          "output_type": "stream",
          "text": [
            "Model: \"vgg16\"\n",
            "_________________________________________________________________\n",
            "Layer (type)                 Output Shape              Param #   \n",
            "=================================================================\n",
            "input_3 (InputLayer)         [(None, 150, 150, 3)]     0         \n",
            "_________________________________________________________________\n",
            "block1_conv1 (Conv2D)        (None, 150, 150, 64)      1792      \n",
            "_________________________________________________________________\n",
            "block1_conv2 (Conv2D)        (None, 150, 150, 64)      36928     \n",
            "_________________________________________________________________\n",
            "block1_pool (MaxPooling2D)   (None, 75, 75, 64)        0         \n",
            "_________________________________________________________________\n",
            "block2_conv1 (Conv2D)        (None, 75, 75, 128)       73856     \n",
            "_________________________________________________________________\n",
            "block2_conv2 (Conv2D)        (None, 75, 75, 128)       147584    \n",
            "_________________________________________________________________\n",
            "block2_pool (MaxPooling2D)   (None, 37, 37, 128)       0         \n",
            "_________________________________________________________________\n",
            "block3_conv1 (Conv2D)        (None, 37, 37, 256)       295168    \n",
            "_________________________________________________________________\n",
            "block3_conv2 (Conv2D)        (None, 37, 37, 256)       590080    \n",
            "_________________________________________________________________\n",
            "block3_conv3 (Conv2D)        (None, 37, 37, 256)       590080    \n",
            "_________________________________________________________________\n",
            "block3_pool (MaxPooling2D)   (None, 18, 18, 256)       0         \n",
            "_________________________________________________________________\n",
            "block4_conv1 (Conv2D)        (None, 18, 18, 512)       1180160   \n",
            "_________________________________________________________________\n",
            "block4_conv2 (Conv2D)        (None, 18, 18, 512)       2359808   \n",
            "_________________________________________________________________\n",
            "block4_conv3 (Conv2D)        (None, 18, 18, 512)       2359808   \n",
            "_________________________________________________________________\n",
            "block4_pool (MaxPooling2D)   (None, 9, 9, 512)         0         \n",
            "_________________________________________________________________\n",
            "block5_conv1 (Conv2D)        (None, 9, 9, 512)         2359808   \n",
            "_________________________________________________________________\n",
            "block5_conv2 (Conv2D)        (None, 9, 9, 512)         2359808   \n",
            "_________________________________________________________________\n",
            "block5_conv3 (Conv2D)        (None, 9, 9, 512)         2359808   \n",
            "_________________________________________________________________\n",
            "block5_pool (MaxPooling2D)   (None, 4, 4, 512)         0         \n",
            "=================================================================\n",
            "Total params: 14,714,688\n",
            "Trainable params: 0\n",
            "Non-trainable params: 14,714,688\n",
            "_________________________________________________________________\n"
          ],
          "name": "stdout"
        }
      ]
    },
    {
      "cell_type": "code",
      "metadata": {
        "id": "ODtOY2Tf6gJJ"
      },
      "source": [
        "# We will train the block5_conv layers\n",
        "\n",
        "conv_base.trainable = True\n",
        "\n",
        "set_trainable = False\n",
        "\n",
        "for layer in conv_base.layers:\n",
        "  if layer.name == 'block5_conv1':\n",
        "    set_trainable = True\n",
        "  if set_trainable:\n",
        "    layer.trainable = True\n",
        "  else:\n",
        "    layer.trainable = False"
      ],
      "execution_count": 41,
      "outputs": []
    },
    {
      "cell_type": "code",
      "metadata": {
        "id": "nuVM2kL1620D",
        "colab": {
          "base_uri": "https://localhost:8080/"
        },
        "outputId": "2987e91d-84f9-4612-e2f8-aead88e0cc00"
      },
      "source": [
        "# Fine tune the network again\n",
        "model.compile(loss='binary_crossentropy', \n",
        "              optimizer=optimizers.RMSprop(lr=1e-5),\n",
        "              metrics=['acc'])\n",
        "\n",
        "history = model.fit_generator(train_generator,\n",
        "                              steps_per_epoch=100,\n",
        "                              epochs=100,\n",
        "                              validation_data=validation_generator,\n",
        "                              validation_steps=50)"
      ],
      "execution_count": 42,
      "outputs": [
        {
          "output_type": "stream",
          "text": [
            "Epoch 1/100\n",
            "100/100 [==============================] - 22s 221ms/step - loss: 0.2994 - acc: 0.8750 - val_loss: 0.2295 - val_acc: 0.9020\n",
            "Epoch 2/100\n",
            "100/100 [==============================] - 22s 223ms/step - loss: 0.2579 - acc: 0.8855 - val_loss: 0.2139 - val_acc: 0.9080\n",
            "Epoch 3/100\n",
            "100/100 [==============================] - 22s 222ms/step - loss: 0.2322 - acc: 0.9040 - val_loss: 0.2076 - val_acc: 0.9130\n",
            "Epoch 4/100\n",
            "100/100 [==============================] - 22s 223ms/step - loss: 0.2127 - acc: 0.9110 - val_loss: 0.2221 - val_acc: 0.9120\n",
            "Epoch 5/100\n",
            "100/100 [==============================] - 22s 220ms/step - loss: 0.2147 - acc: 0.9065 - val_loss: 0.1954 - val_acc: 0.9210\n",
            "Epoch 6/100\n",
            "100/100 [==============================] - 22s 221ms/step - loss: 0.1886 - acc: 0.9190 - val_loss: 0.2032 - val_acc: 0.9250\n",
            "Epoch 7/100\n",
            "100/100 [==============================] - 22s 220ms/step - loss: 0.1833 - acc: 0.9220 - val_loss: 0.2155 - val_acc: 0.9190\n",
            "Epoch 8/100\n",
            "100/100 [==============================] - 22s 220ms/step - loss: 0.1645 - acc: 0.9400 - val_loss: 0.2009 - val_acc: 0.9280\n",
            "Epoch 9/100\n",
            "100/100 [==============================] - 22s 221ms/step - loss: 0.1591 - acc: 0.9325 - val_loss: 0.2641 - val_acc: 0.9110\n",
            "Epoch 10/100\n",
            "100/100 [==============================] - 22s 221ms/step - loss: 0.1502 - acc: 0.9375 - val_loss: 0.1807 - val_acc: 0.9280\n",
            "Epoch 11/100\n",
            "100/100 [==============================] - 22s 221ms/step - loss: 0.1528 - acc: 0.9375 - val_loss: 0.2322 - val_acc: 0.9190\n",
            "Epoch 12/100\n",
            "100/100 [==============================] - 22s 221ms/step - loss: 0.1399 - acc: 0.9475 - val_loss: 0.1886 - val_acc: 0.9310\n",
            "Epoch 13/100\n",
            "100/100 [==============================] - 22s 222ms/step - loss: 0.1362 - acc: 0.9440 - val_loss: 0.2076 - val_acc: 0.9220\n",
            "Epoch 14/100\n",
            "100/100 [==============================] - 22s 221ms/step - loss: 0.1279 - acc: 0.9500 - val_loss: 0.1912 - val_acc: 0.9360\n",
            "Epoch 15/100\n",
            "100/100 [==============================] - 22s 222ms/step - loss: 0.1212 - acc: 0.9490 - val_loss: 0.1803 - val_acc: 0.9330\n",
            "Epoch 16/100\n",
            "100/100 [==============================] - 22s 224ms/step - loss: 0.1057 - acc: 0.9645 - val_loss: 0.1713 - val_acc: 0.9330\n",
            "Epoch 17/100\n",
            "100/100 [==============================] - 22s 223ms/step - loss: 0.1041 - acc: 0.9575 - val_loss: 0.2085 - val_acc: 0.9300\n",
            "Epoch 18/100\n",
            "100/100 [==============================] - 22s 222ms/step - loss: 0.1004 - acc: 0.9610 - val_loss: 0.1758 - val_acc: 0.9350\n",
            "Epoch 19/100\n",
            "100/100 [==============================] - 22s 220ms/step - loss: 0.1101 - acc: 0.9560 - val_loss: 0.1824 - val_acc: 0.9350\n",
            "Epoch 20/100\n",
            "100/100 [==============================] - 22s 220ms/step - loss: 0.0977 - acc: 0.9660 - val_loss: 0.1965 - val_acc: 0.9340\n",
            "Epoch 21/100\n",
            "100/100 [==============================] - 22s 220ms/step - loss: 0.1066 - acc: 0.9545 - val_loss: 0.1926 - val_acc: 0.9380\n",
            "Epoch 22/100\n",
            "100/100 [==============================] - 22s 220ms/step - loss: 0.0862 - acc: 0.9645 - val_loss: 0.1802 - val_acc: 0.9350\n",
            "Epoch 23/100\n",
            "100/100 [==============================] - 22s 222ms/step - loss: 0.0830 - acc: 0.9695 - val_loss: 0.2132 - val_acc: 0.9310\n",
            "Epoch 24/100\n",
            "100/100 [==============================] - 22s 221ms/step - loss: 0.0828 - acc: 0.9680 - val_loss: 0.1704 - val_acc: 0.9350\n",
            "Epoch 25/100\n",
            "100/100 [==============================] - 22s 222ms/step - loss: 0.0747 - acc: 0.9730 - val_loss: 0.1954 - val_acc: 0.9380\n",
            "Epoch 26/100\n",
            "100/100 [==============================] - 22s 220ms/step - loss: 0.0811 - acc: 0.9655 - val_loss: 0.1772 - val_acc: 0.9350\n",
            "Epoch 27/100\n",
            "100/100 [==============================] - 22s 220ms/step - loss: 0.0642 - acc: 0.9745 - val_loss: 0.1774 - val_acc: 0.9340\n",
            "Epoch 28/100\n",
            "100/100 [==============================] - 22s 222ms/step - loss: 0.0679 - acc: 0.9740 - val_loss: 0.1800 - val_acc: 0.9400\n",
            "Epoch 29/100\n",
            "100/100 [==============================] - 22s 221ms/step - loss: 0.0608 - acc: 0.9775 - val_loss: 0.2006 - val_acc: 0.9400\n",
            "Epoch 30/100\n",
            "100/100 [==============================] - 22s 224ms/step - loss: 0.0662 - acc: 0.9745 - val_loss: 0.2094 - val_acc: 0.9350\n",
            "Epoch 31/100\n",
            "100/100 [==============================] - 22s 222ms/step - loss: 0.0693 - acc: 0.9735 - val_loss: 0.2341 - val_acc: 0.9320\n",
            "Epoch 32/100\n",
            "100/100 [==============================] - 22s 222ms/step - loss: 0.0663 - acc: 0.9735 - val_loss: 0.2206 - val_acc: 0.9300\n",
            "Epoch 33/100\n",
            "100/100 [==============================] - 22s 221ms/step - loss: 0.0573 - acc: 0.9780 - val_loss: 0.2005 - val_acc: 0.9340\n",
            "Epoch 34/100\n",
            "100/100 [==============================] - 22s 221ms/step - loss: 0.0581 - acc: 0.9785 - val_loss: 0.2648 - val_acc: 0.9300\n",
            "Epoch 35/100\n",
            "100/100 [==============================] - 22s 221ms/step - loss: 0.0615 - acc: 0.9750 - val_loss: 0.2235 - val_acc: 0.9410\n",
            "Epoch 36/100\n",
            "100/100 [==============================] - 22s 221ms/step - loss: 0.0482 - acc: 0.9835 - val_loss: 0.2031 - val_acc: 0.9380\n",
            "Epoch 37/100\n",
            "100/100 [==============================] - 22s 220ms/step - loss: 0.0631 - acc: 0.9790 - val_loss: 0.2015 - val_acc: 0.9390\n",
            "Epoch 38/100\n",
            "100/100 [==============================] - 22s 221ms/step - loss: 0.0516 - acc: 0.9810 - val_loss: 0.2346 - val_acc: 0.9350\n",
            "Epoch 39/100\n",
            "100/100 [==============================] - 22s 222ms/step - loss: 0.0500 - acc: 0.9820 - val_loss: 0.2120 - val_acc: 0.9370\n",
            "Epoch 40/100\n",
            "100/100 [==============================] - 22s 221ms/step - loss: 0.0456 - acc: 0.9815 - val_loss: 0.3270 - val_acc: 0.9250\n",
            "Epoch 41/100\n",
            "100/100 [==============================] - 22s 220ms/step - loss: 0.0517 - acc: 0.9810 - val_loss: 0.2144 - val_acc: 0.9400\n",
            "Epoch 42/100\n",
            "100/100 [==============================] - 22s 221ms/step - loss: 0.0444 - acc: 0.9850 - val_loss: 0.2043 - val_acc: 0.9350\n",
            "Epoch 43/100\n",
            "100/100 [==============================] - 22s 222ms/step - loss: 0.0506 - acc: 0.9815 - val_loss: 0.2231 - val_acc: 0.9290\n",
            "Epoch 44/100\n",
            "100/100 [==============================] - 22s 224ms/step - loss: 0.0470 - acc: 0.9825 - val_loss: 0.2009 - val_acc: 0.9380\n",
            "Epoch 45/100\n",
            "100/100 [==============================] - 22s 222ms/step - loss: 0.0549 - acc: 0.9790 - val_loss: 0.2136 - val_acc: 0.9450\n",
            "Epoch 46/100\n",
            "100/100 [==============================] - 22s 221ms/step - loss: 0.0468 - acc: 0.9820 - val_loss: 0.1846 - val_acc: 0.9400\n",
            "Epoch 47/100\n",
            "100/100 [==============================] - 22s 221ms/step - loss: 0.0492 - acc: 0.9800 - val_loss: 0.2213 - val_acc: 0.9360\n",
            "Epoch 48/100\n",
            "100/100 [==============================] - 22s 221ms/step - loss: 0.0384 - acc: 0.9880 - val_loss: 0.2869 - val_acc: 0.9300\n",
            "Epoch 49/100\n",
            "100/100 [==============================] - 22s 220ms/step - loss: 0.0375 - acc: 0.9875 - val_loss: 0.2140 - val_acc: 0.9360\n",
            "Epoch 50/100\n",
            "100/100 [==============================] - 22s 221ms/step - loss: 0.0345 - acc: 0.9875 - val_loss: 0.2234 - val_acc: 0.9270\n",
            "Epoch 51/100\n",
            "100/100 [==============================] - 22s 221ms/step - loss: 0.0404 - acc: 0.9840 - val_loss: 0.1959 - val_acc: 0.9390\n",
            "Epoch 52/100\n",
            "100/100 [==============================] - 22s 221ms/step - loss: 0.0365 - acc: 0.9885 - val_loss: 0.2089 - val_acc: 0.9430\n",
            "Epoch 53/100\n",
            "100/100 [==============================] - 22s 221ms/step - loss: 0.0384 - acc: 0.9865 - val_loss: 0.3028 - val_acc: 0.9270\n",
            "Epoch 54/100\n",
            "100/100 [==============================] - 22s 222ms/step - loss: 0.0354 - acc: 0.9860 - val_loss: 0.2298 - val_acc: 0.9370\n",
            "Epoch 55/100\n",
            "100/100 [==============================] - 22s 221ms/step - loss: 0.0308 - acc: 0.9890 - val_loss: 0.2194 - val_acc: 0.9320\n",
            "Epoch 56/100\n",
            "100/100 [==============================] - 22s 219ms/step - loss: 0.0363 - acc: 0.9875 - val_loss: 0.2171 - val_acc: 0.9360\n",
            "Epoch 57/100\n",
            "100/100 [==============================] - 22s 221ms/step - loss: 0.0256 - acc: 0.9910 - val_loss: 0.2292 - val_acc: 0.9380\n",
            "Epoch 58/100\n",
            "100/100 [==============================] - 22s 224ms/step - loss: 0.0340 - acc: 0.9900 - val_loss: 0.3157 - val_acc: 0.9320\n",
            "Epoch 59/100\n",
            "100/100 [==============================] - 22s 221ms/step - loss: 0.0315 - acc: 0.9890 - val_loss: 0.2089 - val_acc: 0.9400\n",
            "Epoch 60/100\n",
            "100/100 [==============================] - 22s 222ms/step - loss: 0.0471 - acc: 0.9870 - val_loss: 0.2666 - val_acc: 0.9330\n",
            "Epoch 61/100\n",
            "100/100 [==============================] - 22s 221ms/step - loss: 0.0265 - acc: 0.9910 - val_loss: 0.2307 - val_acc: 0.9360\n",
            "Epoch 62/100\n",
            "100/100 [==============================] - 22s 220ms/step - loss: 0.0261 - acc: 0.9880 - val_loss: 0.2626 - val_acc: 0.9320\n",
            "Epoch 63/100\n",
            "100/100 [==============================] - 22s 221ms/step - loss: 0.0305 - acc: 0.9900 - val_loss: 0.2555 - val_acc: 0.9390\n",
            "Epoch 64/100\n",
            "100/100 [==============================] - 22s 221ms/step - loss: 0.0234 - acc: 0.9920 - val_loss: 0.3192 - val_acc: 0.9340\n",
            "Epoch 65/100\n",
            "100/100 [==============================] - 22s 223ms/step - loss: 0.0302 - acc: 0.9905 - val_loss: 0.2636 - val_acc: 0.9360\n",
            "Epoch 66/100\n",
            "100/100 [==============================] - 22s 221ms/step - loss: 0.0244 - acc: 0.9920 - val_loss: 0.4284 - val_acc: 0.9170\n",
            "Epoch 67/100\n",
            "100/100 [==============================] - 22s 221ms/step - loss: 0.0318 - acc: 0.9895 - val_loss: 0.2466 - val_acc: 0.9320\n",
            "Epoch 68/100\n",
            "100/100 [==============================] - 22s 222ms/step - loss: 0.0290 - acc: 0.9900 - val_loss: 0.2474 - val_acc: 0.9320\n",
            "Epoch 69/100\n",
            "100/100 [==============================] - 22s 221ms/step - loss: 0.0283 - acc: 0.9895 - val_loss: 0.2351 - val_acc: 0.9360\n",
            "Epoch 70/100\n",
            "100/100 [==============================] - 22s 222ms/step - loss: 0.0306 - acc: 0.9875 - val_loss: 0.2792 - val_acc: 0.9280\n",
            "Epoch 71/100\n",
            "100/100 [==============================] - 22s 224ms/step - loss: 0.0259 - acc: 0.9915 - val_loss: 0.4134 - val_acc: 0.9270\n",
            "Epoch 72/100\n",
            "100/100 [==============================] - 22s 224ms/step - loss: 0.0247 - acc: 0.9930 - val_loss: 0.3505 - val_acc: 0.9360\n",
            "Epoch 73/100\n",
            "100/100 [==============================] - 22s 221ms/step - loss: 0.0244 - acc: 0.9920 - val_loss: 0.2354 - val_acc: 0.9340\n",
            "Epoch 74/100\n",
            "100/100 [==============================] - 22s 220ms/step - loss: 0.0232 - acc: 0.9925 - val_loss: 0.2903 - val_acc: 0.9250\n",
            "Epoch 75/100\n",
            "100/100 [==============================] - 22s 221ms/step - loss: 0.0234 - acc: 0.9905 - val_loss: 0.2858 - val_acc: 0.9220\n",
            "Epoch 76/100\n",
            "100/100 [==============================] - 22s 221ms/step - loss: 0.0205 - acc: 0.9920 - val_loss: 0.2607 - val_acc: 0.9390\n",
            "Epoch 77/100\n",
            "100/100 [==============================] - 22s 221ms/step - loss: 0.0246 - acc: 0.9920 - val_loss: 0.2659 - val_acc: 0.9350\n",
            "Epoch 78/100\n",
            "100/100 [==============================] - 22s 221ms/step - loss: 0.0265 - acc: 0.9910 - val_loss: 0.2669 - val_acc: 0.9280\n",
            "Epoch 79/100\n",
            "100/100 [==============================] - 22s 221ms/step - loss: 0.0286 - acc: 0.9885 - val_loss: 0.2363 - val_acc: 0.9470\n",
            "Epoch 80/100\n",
            "100/100 [==============================] - 22s 220ms/step - loss: 0.0181 - acc: 0.9940 - val_loss: 0.2553 - val_acc: 0.9440\n",
            "Epoch 81/100\n",
            "100/100 [==============================] - 22s 220ms/step - loss: 0.0213 - acc: 0.9930 - val_loss: 0.2252 - val_acc: 0.9440\n",
            "Epoch 82/100\n",
            "100/100 [==============================] - 22s 223ms/step - loss: 0.0184 - acc: 0.9925 - val_loss: 0.2349 - val_acc: 0.9390\n",
            "Epoch 83/100\n",
            "100/100 [==============================] - 22s 221ms/step - loss: 0.0186 - acc: 0.9930 - val_loss: 0.4821 - val_acc: 0.9170\n",
            "Epoch 84/100\n",
            "100/100 [==============================] - 22s 221ms/step - loss: 0.0345 - acc: 0.9930 - val_loss: 0.2453 - val_acc: 0.9400\n",
            "Epoch 85/100\n",
            "100/100 [==============================] - 22s 223ms/step - loss: 0.0170 - acc: 0.9940 - val_loss: 0.2461 - val_acc: 0.9380\n",
            "Epoch 86/100\n",
            "100/100 [==============================] - 22s 224ms/step - loss: 0.0290 - acc: 0.9900 - val_loss: 0.4731 - val_acc: 0.9230\n",
            "Epoch 87/100\n",
            "100/100 [==============================] - 22s 220ms/step - loss: 0.0255 - acc: 0.9910 - val_loss: 0.2465 - val_acc: 0.9440\n",
            "Epoch 88/100\n",
            "100/100 [==============================] - 22s 221ms/step - loss: 0.0198 - acc: 0.9930 - val_loss: 0.3053 - val_acc: 0.9470\n",
            "Epoch 89/100\n",
            "100/100 [==============================] - 22s 221ms/step - loss: 0.0180 - acc: 0.9945 - val_loss: 0.2580 - val_acc: 0.9390\n",
            "Epoch 90/100\n",
            "100/100 [==============================] - 22s 222ms/step - loss: 0.0217 - acc: 0.9925 - val_loss: 0.2537 - val_acc: 0.9480\n",
            "Epoch 91/100\n",
            "100/100 [==============================] - 22s 221ms/step - loss: 0.0231 - acc: 0.9930 - val_loss: 0.2380 - val_acc: 0.9400\n",
            "Epoch 92/100\n",
            "100/100 [==============================] - 22s 221ms/step - loss: 0.0194 - acc: 0.9920 - val_loss: 0.2461 - val_acc: 0.9410\n",
            "Epoch 93/100\n",
            "100/100 [==============================] - 22s 222ms/step - loss: 0.0204 - acc: 0.9945 - val_loss: 0.2709 - val_acc: 0.9360\n",
            "Epoch 94/100\n",
            "100/100 [==============================] - 22s 221ms/step - loss: 0.0163 - acc: 0.9925 - val_loss: 0.2610 - val_acc: 0.9360\n",
            "Epoch 95/100\n",
            "100/100 [==============================] - 22s 222ms/step - loss: 0.0131 - acc: 0.9950 - val_loss: 0.2556 - val_acc: 0.9390\n",
            "Epoch 96/100\n",
            "100/100 [==============================] - 22s 221ms/step - loss: 0.0207 - acc: 0.9900 - val_loss: 0.3018 - val_acc: 0.9400\n",
            "Epoch 97/100\n",
            "100/100 [==============================] - 22s 222ms/step - loss: 0.0172 - acc: 0.9940 - val_loss: 0.2978 - val_acc: 0.9320\n",
            "Epoch 98/100\n",
            "100/100 [==============================] - 22s 221ms/step - loss: 0.0173 - acc: 0.9965 - val_loss: 0.3391 - val_acc: 0.9280\n",
            "Epoch 99/100\n",
            "100/100 [==============================] - 23s 225ms/step - loss: 0.0199 - acc: 0.9920 - val_loss: 0.2640 - val_acc: 0.9380\n",
            "Epoch 100/100\n",
            "100/100 [==============================] - 22s 221ms/step - loss: 0.0160 - acc: 0.9930 - val_loss: 0.2412 - val_acc: 0.9390\n"
          ],
          "name": "stdout"
        }
      ]
    },
    {
      "cell_type": "code",
      "metadata": {
        "id": "UEmpWDRg7Kh8",
        "colab": {
          "base_uri": "https://localhost:8080/",
          "height": 545
        },
        "outputId": "5684b5fb-0cc9-4ade-be89-5ef51ae88882"
      },
      "source": [
        "acc = history.history['acc']\n",
        "val_acc = history.history['val_acc']\n",
        "loss = history.history['loss']\n",
        "val_loss = history.history['val_loss']\n",
        "\n",
        "epochs = range(1, len(acc)+1)\n",
        "\n",
        "plt.plot(epochs, acc, 'bo', label='Training acc')\n",
        "plt.plot(epochs, val_acc, 'b', label='Validation acc')\n",
        "plt.title('Training and validation accuracy')\n",
        "plt.legend()\n",
        "\n",
        "plt.figure()\n",
        "\n",
        "plt.plot(epochs, loss, 'bo', label='Training loss')\n",
        "plt.plot(epochs, val_loss, 'b', label='Validation loss')\n",
        "plt.title('Training and validation loss')\n",
        "plt.legend()\n",
        "\n",
        "plt.show()"
      ],
      "execution_count": 43,
      "outputs": [
        {
          "output_type": "display_data",
          "data": {
            "image/png": "[encoded data removed]",
            "text/plain": [
              "<Figure size 432x288 with 1 Axes>"
            ]
          },
          "metadata": {
            "tags": [],
            "needs_background": "light"
          }
        },
        {
          "output_type": "display_data",
          "data": {
            "image/png": "[encoded data removed]",
            "text/plain": [
              "<Figure size 432x288 with 1 Axes>"
            ]
          },
          "metadata": {
            "tags": [],
            "needs_background": "light"
          }
        }
      ]
    },
    {
      "cell_type": "code",
      "metadata": {
        "colab": {
          "base_uri": "https://localhost:8080/"
        },
        "id": "KLVfgoZsqy2B",
        "outputId": "04422826-45e4-40d6-d360-9faf175cfda6"
      },
      "source": [
        "acc = history.history['acc']\r\n",
        "val_acc = history.history['val_acc']\r\n",
        "loss = history.history['loss']\r\n",
        "val_loss = history.history['val_loss']\r\n",
        "\r\n",
        "print(\"Accuracy: \", acc[-1])\r\n",
        "print(\"Validation accuracy: \", val_acc[-1])\r\n",
        "print(\"\\n\")\r\n",
        "print(\"Loss: \", loss[-1])\r\n",
        "print(\"Validation loss: \", val_loss[-1])"
      ],
      "execution_count": 44,
      "outputs": [
        {
          "output_type": "stream",
          "text": [
            "Accuracy:  0.9929999709129333\n",
            "Validation accuracy:  0.9390000104904175\n",
            "\n",
            "\n",
            "Loss:  0.015981895849108696\n",
            "Validation loss:  0.24117812514305115\n"
          ],
          "name": "stdout"
        }
      ]
    },
    {
      "cell_type": "markdown",
      "metadata": {
        "id": "Pq-7w1Mq8iwY"
      },
      "source": [
        "#Finally\n",
        "We test on the test dataset"
      ]
    },
    {
      "cell_type": "code",
      "metadata": {
        "id": "gH2QD6U582yq",
        "colab": {
          "base_uri": "https://localhost:8080/"
        },
        "outputId": "62ef6b9d-8eea-4358-c692-d13fa1650bdd"
      },
      "source": [
        "test_generator = test_datagen.flow_from_directory(\n",
        "    test_dir,\n",
        "    target_size=(150, 150),\n",
        "    batch_size=20, \n",
        "    class_mode='binary'\n",
        ")\n",
        "\n",
        "test_loss, test_acc = model.evaluate_generator(test_generator, steps=50)\n",
        "print('Test accuracy:', test_acc)"
      ],
      "execution_count": 45,
      "outputs": [
        {
          "output_type": "stream",
          "text": [
            "Found 1000 images belonging to 2 classes.\n",
            "Test accuracy: 0.9409999847412109\n"
          ],
          "name": "stdout"
        }
      ]
    },
    {
      "cell_type": "markdown",
      "metadata": {
        "id": "PUJzONS3AVvK"
      },
      "source": [
        "#Testing our pre-trained model"
      ]
    },
    {
      "cell_type": "code",
      "metadata": {
        "id": "O0065HFRAkSk"
      },
      "source": [
        "from keras.applications.vgg16 import VGG16\n",
        "model = VGG16(weights='imagenet')"
      ],
      "execution_count": 46,
      "outputs": []
    },
    {
      "cell_type": "code",
      "metadata": {
        "id": "pIEDleD0Azol"
      },
      "source": [
        "from keras.preprocessing import image\n",
        "from keras.applications.vgg16 import preprocess_input, decode_predictions\n",
        "import numpy as np\n",
        "\n",
        "image_path = '/content/drive/My Drive/Image Datasets/random_pictures/sample_cat.jpeg'\n",
        "img = image.load_img(image_path, target_size=(224, 224))\n",
        "\n",
        "x = image.img_to_array(img)\n",
        "x = np.expand_dims(x, axis=0) # adds a dimension to transform the array into a batch of size (1, 224, 224, 3)\n",
        "x = preprocess_input(x)"
      ],
      "execution_count": 47,
      "outputs": []
    },
    {
      "cell_type": "code",
      "metadata": {
        "id": "DFyukf5OBmd2",
        "colab": {
          "base_uri": "https://localhost:8080/"
        },
        "outputId": "a86e792b-3f82-4f96-8fd7-c6341f49a218"
      },
      "source": [
        "preds = model.predict(x)\n",
        "print('Predicted:', decode_predictions(preds, top=3)[0])\n"
      ],
      "execution_count": 48,
      "outputs": [
        {
          "output_type": "stream",
          "text": [
            "Predicted: [('n02971356', 'carton', 0.2219832), ('n02124075', 'Egyptian_cat', 0.19359447), ('n02123045', 'tabby', 0.08688784)]\n"
          ],
          "name": "stdout"
        }
      ]
    }
  ]
}